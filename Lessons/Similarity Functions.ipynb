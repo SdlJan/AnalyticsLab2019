{
 "cells": [
  {
   "cell_type": "markdown",
   "metadata": {},
   "source": [
    "## Similarity Functions"
   ]
  },
  {
   "cell_type": "markdown",
   "metadata": {},
   "source": [
    "#### TOKEN-BASED SIMILARITY\n",
    "\n",
    "Token-based similarity measures compare two strings by first dividing them into a set of tokens\n",
    "using a tokenization function, which we denote as tokenize(·). Intuitively, tokens correspond to\n",
    "substrings of the original string. As a simple example, assume the tokenization function splits a\n",
    "string into tokens based on whitespace characters.Then, the string Sean Connery results in the set\n",
    "of tokens *{Sean,Connery}*. As we will show throughout our discussion, the main advantage of\n",
    "token-based similarity measures is that the similarity is less sensitive to word swaps compared to\n",
    "similarity measures that consider a string as a whole (notably edit-based measures). That is, the\n",
    "comparison of *Sean Connery* and *Connery Sean* will yield a maximum similarity score because both\n",
    "strings contain the exact same tokens. On the other hand, typographical errors within tokens are\n",
    "penalized, for instance, the similarity of *Sean Connery* and *Shawn Conery* will be zero."
   ]
  },
  {
   "cell_type": "markdown",
   "metadata": {},
   "source": [
    "#### JACCARD COEFFICIENT\n",
    "\n",
    "The Jaccard coefficient is a similarity measure that, in its most general form, compares two sets P\n",
    "and Q with the following formula:\n",
    "$$Jaccard(P,Q) = \\frac{|P \\cap Q|}{|P \\cup Q|}$$\n",
    "Essentially,the Jaccard coefficient measures the fraction of the data that is shared between P\n",
    "and Q, compared to all data available in the union of these two sets.\n",
    "\n",
    "An advantage of the Jaccard coefficient is that it is not sensitive to word swaps. Indeed, the\n",
    "score of two names *John Smith* and *Smith John* would correspond to the score of exactly equal strings because the Jaccard coefficient considers only whether a token exists in a string, not at which position."
   ]
  },
  {
   "cell_type": "markdown",
   "metadata": {},
   "source": [
    "#### COSINE SIMILARITY USINGTOKEN FREQUENCY AND INVERSE DOCUMENT FREQUENCY\n",
    "\n",
    "The cosine similarity is a similarity measure often used in information retrieval. In general,given two n-dimensional vectors V and W, the cosine similarity computes the cosine of the angle $\\alpha$ between\n",
    "these two vectors as\n",
    "$$CosineSimilarity(V,W) = cos(\\alpha) = \\frac{V \\cdot W}{||V|| \\cdot ||W||}$$"
   ]
  },
  {
   "cell_type": "code",
   "execution_count": null,
   "metadata": {},
   "outputs": [],
   "source": []
  },
  {
   "cell_type": "code",
   "execution_count": null,
   "metadata": {},
   "outputs": [],
   "source": []
  },
  {
   "cell_type": "markdown",
   "metadata": {},
   "source": [
    "### EDIT-BASED SIMILARITY\n",
    "\n",
    "We now focus on a second family of similarity measures,so called edit-based similarity measures.\n",
    "In contrast to token-based measures, strings are considered as a whole and are not divided into sets\n",
    "of tokens. However, to account for errors, such as typographical errors, word swaps and so on, edit-\n",
    "based similarities allow different edit operations to transform one string into the other,e.g.,*insertion* of characters, character *swaps*, *deletion* of characters, or *replacement* of characters."
   ]
  },
  {
   "cell_type": "code",
   "execution_count": 10,
   "metadata": {},
   "outputs": [],
   "source": [
    "import re\n",
    "\n",
    "\n",
    "def edits1(word):\n",
    "    \"All edits that are one edit away from `word`.\"\n",
    "    letters    = 'abcdefghijklmnopqrstuvwxyz'\n",
    "    splits     = [(word[:i], word[i:])    for i in range(len(word) + 1)]\n",
    "    deletes    = [L + R[1:]               for L, R in splits if R]\n",
    "    transposes = [L + R[1] + R[0] + R[2:] for L, R in splits if len(R)>1]\n",
    "    replaces   = [L + c + R[1:]           for L, R in splits if R for c in letters]\n",
    "    inserts    = [L + c + R               for L, R in splits for c in letters]\n",
    "    return set(deletes + transposes + replaces + inserts)\n",
    "\n"
   ]
  },
  {
   "cell_type": "code",
   "execution_count": 3,
   "metadata": {},
   "outputs": [
    {
     "data": {
      "text/plain": [
       "'corrected'"
      ]
     },
     "execution_count": 3,
     "metadata": {},
     "output_type": "execute_result"
    }
   ],
   "source": [
    "correction('korrectud')"
   ]
  },
  {
   "cell_type": "code",
   "execution_count": 9,
   "metadata": {},
   "outputs": [],
   "source": [
    "import editdistance"
   ]
  },
  {
   "cell_type": "code",
   "execution_count": 10,
   "metadata": {},
   "outputs": [
    {
     "data": {
      "text/plain": [
       "2"
      ]
     },
     "execution_count": 10,
     "metadata": {},
     "output_type": "execute_result"
    }
   ],
   "source": [
    "editdistance.eval('banana', 'bahama')"
   ]
  },
  {
   "cell_type": "code",
   "execution_count": 8,
   "metadata": {},
   "outputs": [
    {
     "data": {
      "text/plain": [
       "3"
      ]
     },
     "execution_count": 8,
     "metadata": {},
     "output_type": "execute_result"
    }
   ],
   "source": [
    "import stringdist\n",
    "stringdist.levenshtein('test', 'testing')"
   ]
  },
  {
   "cell_type": "markdown",
   "metadata": {},
   "source": [
    "Thanks to \n",
    "https://stackoverflow.com/questions/39008069/r-and-python-in-one-jupyter-notebook"
   ]
  },
  {
   "cell_type": "code",
   "execution_count": 1,
   "metadata": {},
   "outputs": [],
   "source": [
    "#%load_ext rpy2.ipython"
   ]
  },
  {
   "cell_type": "code",
   "execution_count": null,
   "metadata": {},
   "outputs": [],
   "source": []
  }
 ],
 "metadata": {
  "kernelspec": {
   "display_name": "Python 3",
   "language": "python",
   "name": "python3"
  },
  "language_info": {
   "codemirror_mode": {
    "name": "ipython",
    "version": 3
   },
   "file_extension": ".py",
   "mimetype": "text/x-python",
   "name": "python",
   "nbconvert_exporter": "python",
   "pygments_lexer": "ipython3",
   "version": "3.6.4"
  }
 },
 "nbformat": 4,
 "nbformat_minor": 1
}
