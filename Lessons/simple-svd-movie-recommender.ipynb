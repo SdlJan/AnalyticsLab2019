{
 "cells": [
  {
   "cell_type": "markdown",
   "metadata": {},
   "source": [
    "\n",
    "\n",
    "\n",
    "A must read (https://sifter.org/~simon/journal/20061211.html)"
   ]
  },
  {
   "cell_type": "markdown",
   "metadata": {},
   "source": [
    "##### Movie Rankings on kaggle\n",
    "\n",
    "https://www.kaggle.com/cast42/simple-svd-movie-recommender/data\n",
    "\n",
    "\n",
    "**ratings_small.csv**: The subset of 100,000 ratings from 671 users on 9,066 movies.\n",
    "\n",
    "The Full MovieLens Dataset consisting of 26 million ratings and 750,000 tag applications from 270,000 users on all the 45,000 movies in this dataset can be accessed here (https://grouplens.org/datasets/movielens/latest/)\n"
   ]
  },
  {
   "cell_type": "code",
   "execution_count": 8,
   "metadata": {
    "_cell_guid": "b1076dfc-b9ad-4769-8c92-a6c4dae69d19",
    "_uuid": "8f2839f25d086af736a60e9eeb907d3b93b6e0e5"
   },
   "outputs": [
    {
     "name": "stdout",
     "output_type": "stream",
     "text": [
      "['ratings_small.csv.gz']\n"
     ]
    }
   ],
   "source": [
    "import numpy as np # linear algebra\n",
    "import pandas as pd # data processing, CSV file I/O (e.g. pd.read_csv)\n",
    "\n",
    "import os\n",
    "print(os.listdir(\"data/kaggle/TheMovies\"))\n",
    "\n",
    "#sparse SVD\n",
    "from scipy.sparse.linalg import svds\n",
    "\n",
    "# Any results you write to the current directory are saved as output."
   ]
  },
  {
   "cell_type": "code",
   "execution_count": 4,
   "metadata": {
    "_cell_guid": "79c7e3d0-c299-4dcb-8224-4455121ee9b0",
    "_uuid": "d629ff2d2480ee46fbb7e2d37f6b5fab8052498a",
    "scrolled": true
   },
   "outputs": [
    {
     "data": {
      "text/html": [
       "<div>\n",
       "<style scoped>\n",
       "    .dataframe tbody tr th:only-of-type {\n",
       "        vertical-align: middle;\n",
       "    }\n",
       "\n",
       "    .dataframe tbody tr th {\n",
       "        vertical-align: top;\n",
       "    }\n",
       "\n",
       "    .dataframe thead th {\n",
       "        text-align: right;\n",
       "    }\n",
       "</style>\n",
       "<table border=\"1\" class=\"dataframe\">\n",
       "  <thead>\n",
       "    <tr style=\"text-align: right;\">\n",
       "      <th></th>\n",
       "      <th>userId</th>\n",
       "      <th>movieId</th>\n",
       "      <th>rating</th>\n",
       "      <th>timestamp</th>\n",
       "    </tr>\n",
       "  </thead>\n",
       "  <tbody>\n",
       "    <tr>\n",
       "      <th>0</th>\n",
       "      <td>1</td>\n",
       "      <td>31</td>\n",
       "      <td>2.5</td>\n",
       "      <td>1260759144</td>\n",
       "    </tr>\n",
       "    <tr>\n",
       "      <th>1</th>\n",
       "      <td>1</td>\n",
       "      <td>1029</td>\n",
       "      <td>3.0</td>\n",
       "      <td>1260759179</td>\n",
       "    </tr>\n",
       "    <tr>\n",
       "      <th>2</th>\n",
       "      <td>1</td>\n",
       "      <td>1061</td>\n",
       "      <td>3.0</td>\n",
       "      <td>1260759182</td>\n",
       "    </tr>\n",
       "    <tr>\n",
       "      <th>3</th>\n",
       "      <td>1</td>\n",
       "      <td>1129</td>\n",
       "      <td>2.0</td>\n",
       "      <td>1260759185</td>\n",
       "    </tr>\n",
       "    <tr>\n",
       "      <th>4</th>\n",
       "      <td>1</td>\n",
       "      <td>1172</td>\n",
       "      <td>4.0</td>\n",
       "      <td>1260759205</td>\n",
       "    </tr>\n",
       "  </tbody>\n",
       "</table>\n",
       "</div>"
      ],
      "text/plain": [
       "   userId  movieId  rating   timestamp\n",
       "0       1       31     2.5  1260759144\n",
       "1       1     1029     3.0  1260759179\n",
       "2       1     1061     3.0  1260759182\n",
       "3       1     1129     2.0  1260759185\n",
       "4       1     1172     4.0  1260759205"
      ]
     },
     "execution_count": 4,
     "metadata": {},
     "output_type": "execute_result"
    }
   ],
   "source": [
    "ratings = pd.read_csv('data/kaggle/TheMovies/ratings_small.csv.gz')\n",
    "ratings.head()"
   ]
  },
  {
   "cell_type": "markdown",
   "metadata": {},
   "source": [
    "#### Create a user/movie ranking matrix\n",
    "\n",
    "Use the pandas *groupby* command along with *unstack*.\n",
    "For now, replace missing values with 0, which is suboptimal. A better way would be as follows:\n",
    "\n",
    "It's possible to approximate the SVD of a matrix with missing values using an iterative procedure:\n",
    "\n",
    "1. Fill in the missing values with a rough approximation (e.g. replace them with the column means)\n",
    "2. Perform SVD on the filled-in matrix\n",
    "3. Reconstruct the data matrix from the SVD in order to get a better approximation of the missing values\n",
    "4. Repeat steps 2-3 until convergence\n",
    "\n",
    "This is a form of expectation maximization (EM) algorithm, where the E step updates the estimates of the missing values from the SVD, and the M step computes the SVD on the updated estimate of the data matrix (see [Section 1.3](https://www.cs.uic.edu/~liub/KDD-cup-2007/proceedings/missing-value-Kurucz.pdf) here for more details)."
   ]
  },
  {
   "cell_type": "code",
   "execution_count": 29,
   "metadata": {
    "_uuid": "39aa2c007ad940369a3d5e30d18b931fa7bc4150"
   },
   "outputs": [],
   "source": [
    "user_item = "
   ]
  },
  {
   "cell_type": "code",
   "execution_count": 25,
   "metadata": {},
   "outputs": [],
   "source": [
    "#user_item"
   ]
  },
  {
   "cell_type": "markdown",
   "metadata": {},
   "source": [
    "#### What dimensions do you expect this matrix to have ?"
   ]
  },
  {
   "cell_type": "code",
   "execution_count": 26,
   "metadata": {
    "_uuid": "f5240da90201e1fa7d8aedbeb9ceed026631ae58"
   },
   "outputs": [
    {
     "data": {
      "text/plain": [
       "(671, 9066)"
      ]
     },
     "execution_count": 26,
     "metadata": {},
     "output_type": "execute_result"
    }
   ],
   "source": [
    "user_item."
   ]
  },
  {
   "cell_type": "markdown",
   "metadata": {},
   "source": [
    "#### What are the top rated movies for user 42"
   ]
  },
  {
   "cell_type": "code",
   "execution_count": 34,
   "metadata": {
    "_uuid": "0a6575ee8b229b1a9ccf78abc1d2d69e015e4f02"
   },
   "outputs": [
    {
     "data": {
      "text/plain": [
       "movieId\n",
       "7502    5.0\n",
       "1196    5.0\n",
       "1097    5.0\n",
       "318     5.0\n",
       "589     5.0\n",
       "Name: 42, dtype: float64"
      ]
     },
     "execution_count": 34,
     "metadata": {},
     "output_type": "execute_result"
    }
   ],
   "source": [
    "user_item."
   ]
  },
  {
   "cell_type": "markdown",
   "metadata": {},
   "source": [
    "#### Compute the SVD\n",
    "\n",
    "Think about centering your data\n",
    "\n",
    "Keep only 50 components"
   ]
  },
  {
   "cell_type": "code",
   "execution_count": 30,
   "metadata": {
    "_uuid": "b1873f9d7d7995225f4cd48ebaa7b2cecabd9a35"
   },
   "outputs": [],
   "source": [
    "U, sigma, Vt = "
   ]
  },
  {
   "cell_type": "code",
   "execution_count": 10,
   "metadata": {
    "_uuid": "cbb6e56e7b36f004a6d6996fbc02f5d3e00fa506"
   },
   "outputs": [
    {
     "data": {
      "text/plain": [
       "(671, 50)"
      ]
     },
     "execution_count": 10,
     "metadata": {},
     "output_type": "execute_result"
    }
   ],
   "source": [
    "U.shape"
   ]
  },
  {
   "cell_type": "code",
   "execution_count": 11,
   "metadata": {
    "_uuid": "2c0284acf817f924e5256b4ad2a04ed5f65e79aa"
   },
   "outputs": [
    {
     "data": {
      "text/plain": [
       "(50, 9066)"
      ]
     },
     "execution_count": 11,
     "metadata": {},
     "output_type": "execute_result"
    }
   ],
   "source": [
    "Vt.shape"
   ]
  },
  {
   "cell_type": "code",
   "execution_count": 12,
   "metadata": {
    "_uuid": "651248022d0afde1435bac0b06464d248217d66e"
   },
   "outputs": [],
   "source": [
    "sigma_diag_matrix=np.diag(sigma)"
   ]
  },
  {
   "cell_type": "markdown",
   "metadata": {},
   "source": [
    "#### Barplot the first ? singular values"
   ]
  },
  {
   "cell_type": "code",
   "execution_count": 52,
   "metadata": {},
   "outputs": [
    {
     "data": {
      "text/plain": [
       "<Container object of 50 artists>"
      ]
     },
     "execution_count": 52,
     "metadata": {},
     "output_type": "execute_result"
    },
    {
     "data": {
      "image/png": "[encoded data removed]",
      "text/plain": [
       "<matplotlib.figure.Figure at 0x25451e98da0>"
      ]
     },
     "metadata": {
      "needs_background": "light"
     },
     "output_type": "display_data"
    }
   ],
   "source": [
    "import matplotlib.pyplot as plt\n",
    "plt.bar()"
   ]
  },
  {
   "cell_type": "markdown",
   "metadata": {},
   "source": [
    "#### Predict the ratings for all users based on this truncated SVD"
   ]
  },
  {
   "cell_type": "code",
   "execution_count": 13,
   "metadata": {
    "_uuid": "11b7417a7258fe0800396ce7fffd28c5b3ae2318"
   },
   "outputs": [],
   "source": [
    "all_user_predicted_ratings = np.dot()\n",
    "#all_user_predicted_ratings_demeaned = all_user_predicted_ratings +  user_ratings_mean.reshape(-1, 1)\n",
    "preds_df = pd.DataFrame(all_user_predicted_ratings, columns = user_item.columns, index=user_item.index)"
   ]
  },
  {
   "cell_type": "code",
   "execution_count": 32,
   "metadata": {
    "_uuid": "b6e306e528eada20a2c7f9bd21567576c75797f2"
   },
   "outputs": [
    {
     "data": {
      "text/plain": [
       "(671, 9066)"
      ]
     },
     "execution_count": 32,
     "metadata": {},
     "output_type": "execute_result"
    }
   ],
   "source": [
    "preds_df.shape\n",
    "all_user_predicted_ratings.shape"
   ]
  },
  {
   "cell_type": "code",
   "execution_count": 15,
   "metadata": {
    "_uuid": "c35124513bc2eaf0ab177da3ab5be5e5e7e4abbb",
    "scrolled": true
   },
   "outputs": [
    {
     "data": {
      "text/html": [
       "<div>\n",
       "<style scoped>\n",
       "    .dataframe tbody tr th:only-of-type {\n",
       "        vertical-align: middle;\n",
       "    }\n",
       "\n",
       "    .dataframe tbody tr th {\n",
       "        vertical-align: top;\n",
       "    }\n",
       "\n",
       "    .dataframe thead th {\n",
       "        text-align: right;\n",
       "    }\n",
       "</style>\n",
       "<table border=\"1\" class=\"dataframe\">\n",
       "  <thead>\n",
       "    <tr style=\"text-align: right;\">\n",
       "      <th>movieId</th>\n",
       "      <th>1</th>\n",
       "      <th>2</th>\n",
       "      <th>3</th>\n",
       "      <th>4</th>\n",
       "      <th>5</th>\n",
       "      <th>6</th>\n",
       "      <th>7</th>\n",
       "      <th>8</th>\n",
       "      <th>9</th>\n",
       "      <th>10</th>\n",
       "      <th>...</th>\n",
       "      <th>161084</th>\n",
       "      <th>161155</th>\n",
       "      <th>161594</th>\n",
       "      <th>161830</th>\n",
       "      <th>161918</th>\n",
       "      <th>161944</th>\n",
       "      <th>162376</th>\n",
       "      <th>162542</th>\n",
       "      <th>162672</th>\n",
       "      <th>163949</th>\n",
       "    </tr>\n",
       "    <tr>\n",
       "      <th>userId</th>\n",
       "      <th></th>\n",
       "      <th></th>\n",
       "      <th></th>\n",
       "      <th></th>\n",
       "      <th></th>\n",
       "      <th></th>\n",
       "      <th></th>\n",
       "      <th></th>\n",
       "      <th></th>\n",
       "      <th></th>\n",
       "      <th></th>\n",
       "      <th></th>\n",
       "      <th></th>\n",
       "      <th></th>\n",
       "      <th></th>\n",
       "      <th></th>\n",
       "      <th></th>\n",
       "      <th></th>\n",
       "      <th></th>\n",
       "      <th></th>\n",
       "      <th></th>\n",
       "    </tr>\n",
       "  </thead>\n",
       "  <tbody>\n",
       "    <tr>\n",
       "      <th>1</th>\n",
       "      <td>-0.057419</td>\n",
       "      <td>0.044156</td>\n",
       "      <td>-0.003525</td>\n",
       "      <td>-0.014026</td>\n",
       "      <td>-0.011693</td>\n",
       "      <td>0.037647</td>\n",
       "      <td>-0.011436</td>\n",
       "      <td>-0.012794</td>\n",
       "      <td>0.017412</td>\n",
       "      <td>0.037456</td>\n",
       "      <td>...</td>\n",
       "      <td>-0.001519</td>\n",
       "      <td>0.000171</td>\n",
       "      <td>0.016497</td>\n",
       "      <td>0.000130</td>\n",
       "      <td>0.000195</td>\n",
       "      <td>-0.013686</td>\n",
       "      <td>0.024746</td>\n",
       "      <td>-0.000700</td>\n",
       "      <td>-0.000420</td>\n",
       "      <td>-0.003038</td>\n",
       "    </tr>\n",
       "    <tr>\n",
       "      <th>2</th>\n",
       "      <td>0.397099</td>\n",
       "      <td>1.422453</td>\n",
       "      <td>-0.175735</td>\n",
       "      <td>0.166606</td>\n",
       "      <td>0.269432</td>\n",
       "      <td>0.385791</td>\n",
       "      <td>0.068086</td>\n",
       "      <td>0.043673</td>\n",
       "      <td>-0.004759</td>\n",
       "      <td>2.241940</td>\n",
       "      <td>...</td>\n",
       "      <td>-0.002005</td>\n",
       "      <td>0.000998</td>\n",
       "      <td>-0.007596</td>\n",
       "      <td>0.000552</td>\n",
       "      <td>0.000828</td>\n",
       "      <td>-0.059196</td>\n",
       "      <td>-0.011395</td>\n",
       "      <td>0.005804</td>\n",
       "      <td>0.003482</td>\n",
       "      <td>-0.004010</td>\n",
       "    </tr>\n",
       "    <tr>\n",
       "      <th>3</th>\n",
       "      <td>1.275403</td>\n",
       "      <td>0.296807</td>\n",
       "      <td>0.033442</td>\n",
       "      <td>-0.010834</td>\n",
       "      <td>0.100854</td>\n",
       "      <td>0.062972</td>\n",
       "      <td>-0.088911</td>\n",
       "      <td>0.009645</td>\n",
       "      <td>-0.002955</td>\n",
       "      <td>0.227495</td>\n",
       "      <td>...</td>\n",
       "      <td>-0.002610</td>\n",
       "      <td>-0.004553</td>\n",
       "      <td>-0.011604</td>\n",
       "      <td>0.000279</td>\n",
       "      <td>0.000419</td>\n",
       "      <td>-0.008031</td>\n",
       "      <td>-0.017406</td>\n",
       "      <td>0.008379</td>\n",
       "      <td>0.005027</td>\n",
       "      <td>-0.005219</td>\n",
       "    </tr>\n",
       "    <tr>\n",
       "      <th>4</th>\n",
       "      <td>1.183095</td>\n",
       "      <td>1.016435</td>\n",
       "      <td>0.105598</td>\n",
       "      <td>0.074721</td>\n",
       "      <td>-0.337196</td>\n",
       "      <td>-1.433923</td>\n",
       "      <td>-0.337587</td>\n",
       "      <td>-0.154619</td>\n",
       "      <td>-0.056599</td>\n",
       "      <td>1.551431</td>\n",
       "      <td>...</td>\n",
       "      <td>0.023616</td>\n",
       "      <td>0.008438</td>\n",
       "      <td>0.058714</td>\n",
       "      <td>0.003375</td>\n",
       "      <td>0.005062</td>\n",
       "      <td>0.150868</td>\n",
       "      <td>0.088071</td>\n",
       "      <td>-0.023062</td>\n",
       "      <td>-0.013837</td>\n",
       "      <td>0.047233</td>\n",
       "    </tr>\n",
       "    <tr>\n",
       "      <th>5</th>\n",
       "      <td>1.338518</td>\n",
       "      <td>1.510306</td>\n",
       "      <td>0.655975</td>\n",
       "      <td>-0.030616</td>\n",
       "      <td>0.764755</td>\n",
       "      <td>-0.159291</td>\n",
       "      <td>0.009004</td>\n",
       "      <td>0.054437</td>\n",
       "      <td>-0.134904</td>\n",
       "      <td>0.396755</td>\n",
       "      <td>...</td>\n",
       "      <td>0.001700</td>\n",
       "      <td>-0.000225</td>\n",
       "      <td>0.016028</td>\n",
       "      <td>0.006308</td>\n",
       "      <td>0.009463</td>\n",
       "      <td>-0.005235</td>\n",
       "      <td>0.024042</td>\n",
       "      <td>0.013163</td>\n",
       "      <td>0.007898</td>\n",
       "      <td>0.003400</td>\n",
       "    </tr>\n",
       "  </tbody>\n",
       "</table>\n",
       "<p>5 rows × 9066 columns</p>\n",
       "</div>"
      ],
      "text/plain": [
       "movieId    1         2         3         4         5         6         7       \\\n",
       "userId                                                                          \n",
       "1       -0.057419  0.044156 -0.003525 -0.014026 -0.011693  0.037647 -0.011436   \n",
       "2        0.397099  1.422453 -0.175735  0.166606  0.269432  0.385791  0.068086   \n",
       "3        1.275403  0.296807  0.033442 -0.010834  0.100854  0.062972 -0.088911   \n",
       "4        1.183095  1.016435  0.105598  0.074721 -0.337196 -1.433923 -0.337587   \n",
       "5        1.338518  1.510306  0.655975 -0.030616  0.764755 -0.159291  0.009004   \n",
       "\n",
       "movieId    8         9         10        ...       161084    161155    161594  \\\n",
       "userId                                   ...                                    \n",
       "1       -0.012794  0.017412  0.037456    ...    -0.001519  0.000171  0.016497   \n",
       "2        0.043673 -0.004759  2.241940    ...    -0.002005  0.000998 -0.007596   \n",
       "3        0.009645 -0.002955  0.227495    ...    -0.002610 -0.004553 -0.011604   \n",
       "4       -0.154619 -0.056599  1.551431    ...     0.023616  0.008438  0.058714   \n",
       "5        0.054437 -0.134904  0.396755    ...     0.001700 -0.000225  0.016028   \n",
       "\n",
       "movieId    161830    161918    161944    162376    162542    162672    163949  \n",
       "userId                                                                         \n",
       "1        0.000130  0.000195 -0.013686  0.024746 -0.000700 -0.000420 -0.003038  \n",
       "2        0.000552  0.000828 -0.059196 -0.011395  0.005804  0.003482 -0.004010  \n",
       "3        0.000279  0.000419 -0.008031 -0.017406  0.008379  0.005027 -0.005219  \n",
       "4        0.003375  0.005062  0.150868  0.088071 -0.023062 -0.013837  0.047233  \n",
       "5        0.006308  0.009463 -0.005235  0.024042  0.013163  0.007898  0.003400  \n",
       "\n",
       "[5 rows x 9066 columns]"
      ]
     },
     "execution_count": 15,
     "metadata": {},
     "output_type": "execute_result"
    }
   ],
   "source": [
    "preds_df.head()"
   ]
  },
  {
   "cell_type": "markdown",
   "metadata": {},
   "source": [
    "#### Get top recommended movies for users  which have not been rated yet"
   ]
  },
  {
   "cell_type": "code",
   "execution_count": 60,
   "metadata": {},
   "outputs": [
    {
     "data": {
      "text/plain": [
       "movieId\n",
       "1198    4.206618\n",
       "1240    2.835051\n",
       "1197    2.066835\n",
       "1265    2.044307\n",
       "380     1.958318\n",
       "Name: 217, dtype: float64"
      ]
     },
     "execution_count": 60,
     "metadata": {},
     "output_type": "execute_result"
    }
   ],
   "source": []
  },
  {
   "cell_type": "code",
   "execution_count": 44,
   "metadata": {
    "_uuid": "5756da394ce1d920a69d16cb83be088fd45cba0e"
   },
   "outputs": [],
   "source": [
    "def get_high_recommended_movies(userId):\n",
    "    "
   ]
  },
  {
   "cell_type": "code",
   "execution_count": 45,
   "metadata": {
    "_uuid": "b9277b62a65b96d3faffa696e7245d99c8c2b876"
   },
   "outputs": [
    {
     "data": {
      "text/plain": [
       "set()"
      ]
     },
     "execution_count": 45,
     "metadata": {},
     "output_type": "execute_result"
    }
   ],
   "source": [
    "get_high_recommended_movies(42)"
   ]
  },
  {
   "cell_type": "code",
   "execution_count": 46,
   "metadata": {
    "_uuid": "9f186300b2d855c072abb4a6b89de9b233096acb"
   },
   "outputs": [
    {
     "data": {
      "text/plain": [
       "set()"
      ]
     },
     "execution_count": 46,
     "metadata": {},
     "output_type": "execute_result"
    }
   ],
   "source": [
    "get_high_recommended_movies(314)"
   ]
  },
  {
   "cell_type": "code",
   "execution_count": 47,
   "metadata": {
    "_uuid": "0deee3f993f8c8ce38ba78c951062c2e8db9dc21"
   },
   "outputs": [
    {
     "data": {
      "text/plain": [
       "{1198}"
      ]
     },
     "execution_count": 47,
     "metadata": {},
     "output_type": "execute_result"
    }
   ],
   "source": [
    "get_high_recommended_movies(217)"
   ]
  },
  {
   "cell_type": "code",
   "execution_count": null,
   "metadata": {
    "_uuid": "2db1e0ef4aa83ff01bebe51fd460ae267871988c"
   },
   "outputs": [],
   "source": [
    "# User 217 should go watching movie 1198: we expect a rating of 4.2!\n",
    "preds_df.loc[217, 1198]"
   ]
  },
  {
   "cell_type": "code",
   "execution_count": null,
   "metadata": {
    "_uuid": "5f38cb40902c191e4a02217b6a9dd4b282985cf6",
    "collapsed": true
   },
   "outputs": [],
   "source": []
  }
 ],
 "metadata": {
  "kernelspec": {
   "display_name": "Python 3",
   "language": "python",
   "name": "python3"
  },
  "language_info": {
   "codemirror_mode": {
    "name": "ipython",
    "version": 3
   },
   "file_extension": ".py",
   "mimetype": "text/x-python",
   "name": "python",
   "nbconvert_exporter": "python",
   "pygments_lexer": "ipython3",
   "version": "3.6.4"
  }
 },
 "nbformat": 4,
 "nbformat_minor": 1
}
